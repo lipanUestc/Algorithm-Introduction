{
 "cells": [
  {
   "cell_type": "code",
   "execution_count": 1,
   "metadata": {},
   "outputs": [],
   "source": [
    "#include <iostream>\n",
    "#include <fstream>\n",
    "#include <vector>\n",
    "#include <string>\n",
    "#include <algorithm>\n",
    "#define INT_MAX 2147483647\n",
    "\n",
    "using namespace std;"
   ]
  },
  {
   "cell_type": "markdown",
   "metadata": {},
   "source": [
    "# Data Preparation\n",
    "Read data, Create variables and Initialization"
   ]
  },
  {
   "cell_type": "code",
   "execution_count": 2,
   "metadata": {},
   "outputs": [],
   "source": [
    "ifstream file(\"LongestCommonSubsequence.txt\");\n",
    "string x,y;\n",
    "if (file.is_open()) {\n",
    "    getline(file, x);\n",
    "    x=x.c_str();\n",
    "    \n",
    "    getline(file, y);\n",
    "    y=y.c_str();\n",
    "}    \n",
    "file.close();"
   ]
  },
  {
   "cell_type": "code",
   "execution_count": 3,
   "metadata": {},
   "outputs": [
    {
     "name": "stdout",
     "output_type": "stream",
     "text": [
      "asdgasdf\n",
      "sadfadsd\n"
     ]
    }
   ],
   "source": [
    "cout<<x<<\"\\n\"<<y<<endl;"
   ]
  },
  {
   "cell_type": "code",
   "execution_count": 4,
   "metadata": {},
   "outputs": [],
   "source": [
    "int len1 = x.size();\n",
    "int len2 = y.size();\n",
    "\n",
    "vector<vector<int>> m;\n",
    "for(int i=0;i<=len1;i++){\n",
    "    vector<int> temp;\n",
    "    for(int j=0;j<=len2;j++){\n",
    "        int t = (i==0||j==0)?0:INT_MAX;\n",
    "        temp.push_back(t);\n",
    "    }\n",
    "    m.push_back(temp);\n",
    "}"
   ]
  },
  {
   "cell_type": "markdown",
   "metadata": {},
   "source": [
    "# Assistant Function\n",
    "Help print the matrix and Print the optimal path"
   ]
  },
  {
   "cell_type": "code",
   "execution_count": 5,
   "metadata": {},
   "outputs": [],
   "source": [
    "void PrintMatrix(vector<vector<int>> m){\n",
    "    int len1 = m.size();\n",
    "    int len2 = m[0].size();\n",
    "    \n",
    "    for(int i=0;i<len1;i++){\n",
    "        for(int j=0;j<len2;j++){\n",
    "            cout<<m[i][j]<<\" \";\n",
    "        }\n",
    "        cout<<\"\\n\"<<endl;\n",
    "    }\n",
    "}"
   ]
  },
  {
   "cell_type": "code",
   "execution_count": 6,
   "metadata": {},
   "outputs": [],
   "source": [
    "//PrintMatrix(m);"
   ]
  },
  {
   "cell_type": "markdown",
   "metadata": {},
   "source": [
    "# 1.Down2Top for-loop method\n",
    "**Recursive Formulation:**  \n",
    "when (i==0 or j==0):  \n",
    "$$m[i,j]=0$$\n",
    "else if ( x[i]==y[j] ):  \n",
    "$$m[i,j]=m[i-1,j-1]+1$$\n",
    "else:  \n",
    "$$m[i,j]=max(m[i-1,j],m[i,j-1])$$  \n",
    "**x:** a string sequence, y is the same;  \n",
    "**i:** the length of subsequence_x;  \n",
    "**j:** the length of subsequence_y;  \n",
    "**m:** 2-D array, save the max common subsequence length;  \n",
    "  \n",
    "**Main Strategy:**    \n",
    "Down2Top, for-loop method."
   ]
  },
  {
   "cell_type": "code",
   "execution_count": 7,
   "metadata": {},
   "outputs": [],
   "source": [
    "void GetLength(string &x, string &y, vector<vector<int>> &m){\n",
    "    int len1 = x.size();\n",
    "    int len2 = y.size();\n",
    "    \n",
    "    for(int i=1;i<=len1;i++){\n",
    "        for(int j=1;j<=len2;j++){\n",
    "            if(x[i-1]==y[j-1])\n",
    "                m[i][j]=m[i-1][j-1]+1;\n",
    "            else\n",
    "                m[i][j]=max(m[i-1][j],m[i][j-1]);\n",
    "        }\n",
    "    }\n",
    "}"
   ]
  },
  {
   "cell_type": "code",
   "execution_count": 8,
   "metadata": {},
   "outputs": [],
   "source": [
    "GetLength(x,y,m);"
   ]
  },
  {
   "cell_type": "code",
   "execution_count": 9,
   "metadata": {},
   "outputs": [
    {
     "name": "stdout",
     "output_type": "stream",
     "text": [
      "0 0 0 0 0 0 0 0 0 \n",
      "\n",
      "0 0 1 1 1 1 1 1 1 \n",
      "\n",
      "0 1 1 1 1 1 1 2 2 \n",
      "\n",
      "0 1 1 2 2 2 2 2 3 \n",
      "\n",
      "0 1 1 2 2 2 2 2 3 \n",
      "\n",
      "0 1 2 2 2 3 3 3 3 \n",
      "\n",
      "0 1 2 2 2 3 3 4 4 \n",
      "\n",
      "0 1 2 3 3 3 4 4 5 \n",
      "\n",
      "0 1 2 3 4 4 4 4 5 \n",
      "\n"
     ]
    }
   ],
   "source": [
    "PrintMatrix(m);"
   ]
  },
  {
   "cell_type": "markdown",
   "metadata": {},
   "source": [
    "# 2.Print LCS\n",
    "**Main Strategy:**  \n",
    "Recursive print according to status.  "
   ]
  },
  {
   "cell_type": "code",
   "execution_count": 10,
   "metadata": {},
   "outputs": [],
   "source": [
    "void PrintLCS(string &x,vector<vector<int>>& m,int len1,int len2){\n",
    "    if(len1==0 || len2==0)\n",
    "        return;\n",
    "    \n",
    "    if(m[len1][len2]==m[len1-1][len2-1]+1){\n",
    "        PrintLCS(x,m,len1-1,len2-1);\n",
    "        cout<<x[len1-1];\n",
    "    }\n",
    "    else{\n",
    "        if(m[len1][len2-1]>m[len1-1][len2]){\n",
    "        PrintLCS(x,m,len1,len2-1);\n",
    "        }\n",
    "        else if(m[len1][len2-1]<m[len1-1][len2]){\n",
    "            PrintLCS(x,m,len1-1,len2);\n",
    "        }\n",
    "        else\n",
    "            PrintLCS(x,m,len1-1,len2-1);\n",
    "    }\n",
    "    \n",
    "}"
   ]
  },
  {
   "cell_type": "code",
   "execution_count": 11,
   "metadata": {},
   "outputs": [
    {
     "name": "stdout",
     "output_type": "stream",
     "text": [
      "sdadf"
     ]
    }
   ],
   "source": [
    "PrintLCS(x,m,8,8);"
   ]
  }
 ],
 "metadata": {
  "kernelspec": {
   "display_name": "C++14",
   "language": "C++14",
   "name": "xeus-cling-cpp14"
  },
  "language_info": {
   "codemirror_mode": "text/x-c++src",
   "file_extension": ".cpp",
   "mimetype": "text/x-c++src",
   "name": "c++",
   "version": "-std=c++14"
  }
 },
 "nbformat": 4,
 "nbformat_minor": 2
}
