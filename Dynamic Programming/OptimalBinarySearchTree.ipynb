{
 "cells": [
  {
   "cell_type": "code",
   "execution_count": 1,
   "metadata": {},
   "outputs": [],
   "source": [
    "#include <iostream>\n",
    "#include <fstream>\n",
    "#define INT_MAX 2147483647\n",
    "\n",
    "using namespace std;"
   ]
  },
  {
   "cell_type": "markdown",
   "metadata": {},
   "source": [
    "# Data Preparation\n",
    "Read data, Create variables and Initialization  \n",
    "**n:** the node number;  \n",
    "**p:** node visited possibility;  \n",
    "**q:** dummy node visited possibility;"
   ]
  },
  {
   "cell_type": "code",
   "execution_count": 2,
   "metadata": {},
   "outputs": [],
   "source": [
    "int n;\n",
    "vector<float> p;\n",
    "vector<float> q;\n",
    "\n",
    "ifstream fin(\"OptimalBinarySearchTree.txt\");\n",
    "if(fin){\n",
    "    fin>>n;\n",
    "    for(int i=0;i<n;i++){\n",
    "        float temp;\n",
    "        fin>>temp;\n",
    "        p.push_back(temp);\n",
    "    }\n",
    "    \n",
    "    for(int i=0;i<n;i++){\n",
    "        float temp;\n",
    "        fin>>temp;\n",
    "        q.push_back(temp);\n",
    "    }\n",
    "}"
   ]
  },
  {
   "cell_type": "code",
   "execution_count": 3,
   "metadata": {},
   "outputs": [
    {
     "data": {
      "text/plain": [
       "{ 0f, 0.15f, 0.1f, 0.05f, 0.1f, 0.2f }"
      ]
     },
     "execution_count": 3,
     "metadata": {},
     "output_type": "execute_result"
    }
   ],
   "source": [
    "p"
   ]
  },
  {
   "cell_type": "code",
   "execution_count": 4,
   "metadata": {},
   "outputs": [
    {
     "data": {
      "text/plain": [
       "{ 0.05f, 0.1f, 0.05f, 0.05f, 0.05f, 0.1f }"
      ]
     },
     "execution_count": 4,
     "metadata": {},
     "output_type": "execute_result"
    }
   ],
   "source": [
    "q"
   ]
  },
  {
   "cell_type": "code",
   "execution_count": 5,
   "metadata": {},
   "outputs": [],
   "source": [
    "void PrintMatrix(vector<vector<int>> m){\n",
    "    int len1 = m.size();\n",
    "    int len2 = m[0].size();\n",
    "    \n",
    "    for(int i=0;i<len1;i++){\n",
    "        for(int j=0;j<len2;j++){\n",
    "            cout<<m[i][j]<<\" \";\n",
    "        }\n",
    "        cout<<\"\\n\"<<endl;\n",
    "    }\n",
    "}"
   ]
  },
  {
   "cell_type": "markdown",
   "metadata": {},
   "source": [
    "# Variable Initialization\n",
    "Create variables and Initialization  "
   ]
  },
  {
   "cell_type": "code",
   "execution_count": 6,
   "metadata": {},
   "outputs": [],
   "source": [
    "vector<vector<int>> e(n+2,vector<int>(n+2,INT_MAX));\n",
    "vector<vector<int>> w(n+2,vector<int>(n+2,INT_MAX));\n",
    "vector<vector<int>> root(n+2,vector<int>(n+2,INT_MAX));"
   ]
  },
  {
   "cell_type": "code",
   "execution_count": 7,
   "metadata": {},
   "outputs": [],
   "source": [
    "for(int i=1;i<=n+1;i++){\n",
    "    e[i][i-1]=q[i-1];\n",
    "    w[i][i-1]=q[i-1];\n",
    "}"
   ]
  },
  {
   "cell_type": "code",
   "execution_count": 8,
   "metadata": {},
   "outputs": [],
   "source": [
    "for(int l=1;l<=n;l++){\n",
    "    for(int i=1;i+l-1<=n;i++){\n",
    "        int j=i+l-1;\n",
    "        w[i][j]=w[i][j-1]+p[j]+q[j];\n",
    "        for(int r=i;r<=j;r++){\n",
    "            int t=e[i][r-1]+e[r+1][j]+w[i][j];\n",
    "            if(t<e[i][j]){\n",
    "                e[i][j]=t;\n",
    "                root[i][j]=r;\n",
    "            }\n",
    "        }\n",
    "    }\n",
    "}"
   ]
  },
  {
   "cell_type": "code",
   "execution_count": 10,
   "metadata": {},
   "outputs": [
    {
     "name": "stdout",
     "output_type": "stream",
     "text": [
      "2147483647 2147483647 2147483647 2147483647 2147483647 2147483647 2147483647 2147483647 \n",
      "\n",
      "0 0 0 0 0 0 -2147483648 2147483647 \n",
      "\n",
      "2147483647 0 0 0 0 0 -2147483648 2147483647 \n",
      "\n",
      "2147483647 2147483647 0 0 0 0 -2147483648 2147483647 \n",
      "\n",
      "2147483647 2147483647 2147483647 0 0 0 -2147483648 2147483647 \n",
      "\n",
      "2147483647 2147483647 2147483647 2147483647 0 0 -2147483648 2147483647 \n",
      "\n",
      "2147483647 2147483647 2147483647 2147483647 2147483647 0 0 2147483647 \n",
      "\n",
      "2147483647 2147483647 2147483647 2147483647 2147483647 2147483647 -2147483648 2147483647 \n",
      "\n"
     ]
    }
   ],
   "source": [
    "PrintMatrix(e);"
   ]
  },
  {
   "cell_type": "code",
   "execution_count": null,
   "metadata": {},
   "outputs": [],
   "source": []
  },
  {
   "cell_type": "code",
   "execution_count": null,
   "metadata": {},
   "outputs": [],
   "source": []
  },
  {
   "cell_type": "code",
   "execution_count": null,
   "metadata": {},
   "outputs": [],
   "source": []
  },
  {
   "cell_type": "code",
   "execution_count": null,
   "metadata": {},
   "outputs": [],
   "source": []
  },
  {
   "cell_type": "code",
   "execution_count": null,
   "metadata": {},
   "outputs": [],
   "source": []
  },
  {
   "cell_type": "code",
   "execution_count": null,
   "metadata": {},
   "outputs": [],
   "source": [
    "\n",
    "\n",
    "\n",
    "\n",
    "\n",
    "\n",
    "\n",
    "\n",
    "\n",
    "\n",
    "\n",
    "\n",
    "\n",
    "\n",
    "\n",
    "\n",
    "\n",
    "\n",
    "\n",
    "\n",
    "\n",
    "\n",
    "\n",
    "\n",
    "\n",
    "\n"
   ]
  }
 ],
 "metadata": {
  "kernelspec": {
   "display_name": "C++11",
   "language": "C++11",
   "name": "xeus-cling-cpp11"
  },
  "language_info": {
   "codemirror_mode": "text/x-c++src",
   "file_extension": ".cpp",
   "mimetype": "text/x-c++src",
   "name": "c++",
   "version": "-std=c++11"
  }
 },
 "nbformat": 4,
 "nbformat_minor": 2
}
