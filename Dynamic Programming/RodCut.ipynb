{
 "cells": [
  {
   "cell_type": "code",
   "execution_count": 1,
   "metadata": {},
   "outputs": [],
   "source": [
    "#include<iostream>\n",
    "#include<cstring>\n",
    "#include<cstdio>\n",
    "#include<vector>\n",
    "#include<algorithm>\n",
    "#include<fstream>\n",
    "\n",
    "using namespace std;"
   ]
  },
  {
   "cell_type": "markdown",
   "metadata": {},
   "source": [
    "# 1.Recursive Top2Down Implementation\n",
    "**Recursive Formulation:**  \n",
    "$$r_{n} = \\max_{1\\leq i \\leq n}(p_{i}+r_{n-i})$$  \n",
    "  \n",
    "**Main Strategy:**    \n",
    "We assume \"cutRod\" function can return the optimal profit of a rod with length n.  \n",
    "then,from top to down,we compare all the possibilities of different cutting method and get the best one. "
   ]
  },
  {
   "cell_type": "code",
   "execution_count": 2,
   "metadata": {},
   "outputs": [],
   "source": [
    "int cutRod(int prof[], int n) {\n",
    "    if (n == 0)\n",
    "        return 0;\n",
    "    else {\n",
    "        int profit = 0;\n",
    "        for (int i = 1; i <= n; i++) {\n",
    "            profit = max(profit,prof[i-1]+cutRod(prof,n - i));\n",
    "        }\n",
    "        return profit;\n",
    "    }\n",
    "}"
   ]
  },
  {
   "cell_type": "markdown",
   "metadata": {},
   "source": [
    "# 2.Dynamic Programming Recursive Version\n",
    "**Main Strategy:**    \n",
    "Rather than method 1,we only add a n-length array to record all the profit,  \n",
    "then we can avoid all the repeated computations."
   ]
  },
  {
   "cell_type": "code",
   "execution_count": 3,
   "metadata": {},
   "outputs": [],
   "source": [
    "int memoCutRodAux(int prof[], int n, int r[]) {\n",
    "    if (r[n - 1] > 0)\n",
    "        return r[n - 1];\n",
    "    if (n == 0)\n",
    "        return 0;\n",
    "    else {\n",
    "        int profit = 0;\n",
    "        for (int i = 1; i <= n; i++) {\n",
    "            profit = max(profit, prof[i - 1] + cutRod(prof, n - i));\n",
    "        }\n",
    "        r[n - 1] = profit;\n",
    "        return profit;\n",
    "    }\n",
    "}"
   ]
  },
  {
   "cell_type": "code",
   "execution_count": 4,
   "metadata": {},
   "outputs": [],
   "source": [
    "int memoCutRod(int prof[], int n) {\n",
    "    /*int *r = (int*)malloc(sizeof(int)*n);\n",
    "    memset(r, 0, sizeof(int)*n);*/\n",
    "    int* r = new int[n];\n",
    "    return memoCutRodAux(prof, n, r);\n",
    "}"
   ]
  },
  {
   "cell_type": "markdown",
   "metadata": {},
   "source": [
    "# 3.Dynamic Programming For-Loop Version\n",
    "**Image Illustration:**  \n",
    "<img src=\"RodCut1.png\"/>  \n",
    "\n",
    "**Main Strategy:**    \n",
    "As the image showing, upper node's result rely on the under node's result.  \n",
    "donc, we can make a down2top for-loop to ensure all the under computations are ready. "
   ]
  },
  {
   "cell_type": "code",
   "execution_count": 5,
   "metadata": {},
   "outputs": [],
   "source": [
    "int memoBottom2Top(int prof[], int n) {\n",
    "    //int* r = (int*)malloc(sizeof(int)*n);\n",
    "    //memset(r, 0, sizeof(int)*n);\n",
    "    int* r = new int[n];\n",
    "\n",
    "    for (int i = 1; i <= n; i++) {\n",
    "        for (int j = 1; j <= i; j++) {\n",
    "            //if (i == j)\n",
    "            //\tr[i - 1] = max(r[i - 1], prof[j - 1]);\n",
    "            //else\n",
    "            //\tr[i - 1] = max(r[i - 1], prof[j - 1] + r[i - j - 1]);\n",
    "            //r[i - 1] = max(r[i - 1], prof[j - 1] + (i == j ? 0 : r[i - j - 1]));\n",
    "        }\n",
    "    }\n",
    "    return r[n - 1];\n",
    "}"
   ]
  },
  {
   "cell_type": "markdown",
   "metadata": {},
   "source": [
    "# 4.Dynamic Programming Complete Version\n",
    "**Main Strategy:**    \n",
    "This final version add a new array \"s\" to record every split point,  \n",
    "so that we can print the optimal split process easily."
   ]
  },
  {
   "cell_type": "code",
   "execution_count": 6,
   "metadata": {},
   "outputs": [],
   "source": [
    "// pair<int*,int*> memoValueSolution(int prof[], int n) {\n",
    "// \tint* r = (int*)malloc(sizeof(int)*n);\n",
    "// \tmemset(r, 0, sizeof(int)*n);\n",
    "// \tint* s = (int*)malloc(sizeof(int)*n);\n",
    "// \tmemset(s, 0, sizeof(int)*n);\n",
    "\n",
    "// \tfor (int i = 1; i <= n; i++) {\n",
    "// \t\tfor (int j = 1; j <= i; j++) {\n",
    "// \t\t\tif (i == j && r[i - 1] < prof[i - 1]) {\n",
    "// \t\t\t\tr[i - 1] = prof[i - 1];\n",
    "// \t\t\t\ts[i - 1] = j;\n",
    "// \t\t\t}\n",
    "// \t\t\telse if (i != j && r[i - 1] < prof[j - 1] + r[i - j - 1]) {\n",
    "// \t\t\t\tr[i - 1] = prof[j - 1] + r[i - j - 1];\n",
    "// \t\t\t\ts[i - 1] = j;\n",
    "// \t\t\t}\n",
    "// \t\t}\n",
    "// \t}\n",
    "// \treturn make_pair(r,s);\n",
    "// }"
   ]
  },
  {
   "cell_type": "markdown",
   "metadata": {},
   "source": [
    "# Main Function\n",
    "**Main Strategy:**  \n",
    "Read data from a .csv file and excute upper functions."
   ]
  },
  {
   "cell_type": "code",
   "execution_count": 7,
   "metadata": {},
   "outputs": [],
   "source": [
    "#include <iostream>\n",
    "#include <fstream>\n",
    "using namespace std;\n",
    "\n",
    "ifstream fin(\"MatrixChainMultiply.txt\");\n",
    "int N;\n",
    "fin>>N;\n",
    "int* prof=(int*)malloc(sizeof(int)*N);\n",
    "for(int i=0;i<N;i++){\n",
    "    fin>>prof[i];\n",
    "}"
   ]
  },
  {
   "cell_type": "code",
   "execution_count": 8,
   "metadata": {},
   "outputs": [
    {
     "name": "stdout",
     "output_type": "stream",
     "text": [
      "Rod of length 7 has maximum profit 210\n"
     ]
    }
   ],
   "source": [
    "// int N = 8;\n",
    "// int prof[] = { 1, 5, 8, 9, 10, 17, 17, 20, 24, 30 };\n",
    "\n",
    "\n",
    "int profit = cutRod(prof, N);\n",
    "//int profit = memoCutRod(prof, N);\n",
    "//int profit = memoBottom2Top(prof, N);\n",
    "//p = memoValueSolution(prof,N);\n",
    "\n",
    "\n",
    "cout<<\"Rod of length \" <<N <<\" has maximum profit \"<< profit<<endl;"
   ]
  }
 ],
 "metadata": {
  "kernelspec": {
   "display_name": "C++11",
   "language": "C++11",
   "name": "xeus-cling-cpp11"
  },
  "language_info": {
   "codemirror_mode": "text/x-c++src",
   "file_extension": ".cpp",
   "mimetype": "text/x-c++src",
   "name": "c++",
   "version": "-std=c++11"
  }
 },
 "nbformat": 4,
 "nbformat_minor": 2
}
