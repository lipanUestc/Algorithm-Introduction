{
 "cells": [
  {
   "cell_type": "code",
   "execution_count": 1,
   "metadata": {},
   "outputs": [],
   "source": [
    "#include <iostream>\n",
    "#include <fstream>\n",
    "#include <vector>\n",
    "#define INT_MAX 2147483647\n",
    "\n",
    "using namespace std;"
   ]
  },
  {
   "cell_type": "markdown",
   "metadata": {},
   "source": [
    "# Data Preparation\n",
    "Read data, Create variables and Initialization"
   ]
  },
  {
   "cell_type": "code",
   "execution_count": 2,
   "metadata": {},
   "outputs": [],
   "source": [
    "ifstream fin(\"MatrixChainMultiply.txt\");\n",
    "int N;\n",
    "fin>>N;\n",
    "\n",
    "// Get Each Matrix's Dimension, Store in P[]\n",
    "vector<int> P;\n",
    "for(int i=0;i<N;i++){\n",
    "    int temp;\n",
    "    fin>>temp;\n",
    "    P.push_back(temp);\n",
    "}\n",
    "    \n",
    "\n",
    "// Initilaze 'cost 2-D array m[][]' and 'split point 2-D array s[][]'\n",
    "vector<vector<int>> m;\n",
    "vector<vector<int>> s;\n",
    "\n",
    "for(int i=0;i<N-1;i++){\n",
    "    vector<int> temp;\n",
    "    for(int j=0;j<N-1;j++){\n",
    "        temp.push_back(i==j?0:2147483647);\n",
    "    }\n",
    "    m.push_back(temp);\n",
    "}\n",
    "\n",
    "for(int i=0;i<N-1;i++){\n",
    "    vector<int> temp;\n",
    "    for(int j=0;j<N-1;j++){\n",
    "        temp.push_back(0);\n",
    "    }\n",
    "    s.push_back(temp);\n",
    "}"
   ]
  },
  {
   "cell_type": "code",
   "execution_count": 3,
   "metadata": {},
   "outputs": [
    {
     "name": "stdout",
     "output_type": "stream",
     "text": [
      "m.size = (6,6)\n"
     ]
    }
   ],
   "source": [
    "cout<<\"m.size = (\"<<m.size()<<\",\"<<m[0].size()<<\")\"<<endl;"
   ]
  },
  {
   "cell_type": "markdown",
   "metadata": {},
   "source": [
    "# Assistant Function\n",
    "Help print the matrix and Print the optimal path"
   ]
  },
  {
   "cell_type": "code",
   "execution_count": 4,
   "metadata": {},
   "outputs": [],
   "source": [
    "void PrintMatrix(vector<vector<int>> m){\n",
    "    int len1 = m.size();\n",
    "    int len2 = m[0].size();\n",
    "    \n",
    "    for(int i=0;i<len1;i++){\n",
    "        for(int j=0;j<len2;j++){\n",
    "            cout<<m[i][j]<<\" \";\n",
    "        }\n",
    "        cout<<\"\\n\"<<endl;\n",
    "    }\n",
    "}"
   ]
  },
  {
   "cell_type": "code",
   "execution_count": 5,
   "metadata": {},
   "outputs": [
    {
     "name": "stdout",
     "output_type": "stream",
     "text": [
      "0 2147483647 2147483647 2147483647 2147483647 2147483647 \n",
      "\n",
      "2147483647 0 2147483647 2147483647 2147483647 2147483647 \n",
      "\n",
      "2147483647 2147483647 0 2147483647 2147483647 2147483647 \n",
      "\n",
      "2147483647 2147483647 2147483647 0 2147483647 2147483647 \n",
      "\n",
      "2147483647 2147483647 2147483647 2147483647 0 2147483647 \n",
      "\n",
      "2147483647 2147483647 2147483647 2147483647 2147483647 0 \n",
      "\n"
     ]
    }
   ],
   "source": [
    "PrintMatrix(m);// for_each"
   ]
  },
  {
   "cell_type": "code",
   "execution_count": 6,
   "metadata": {},
   "outputs": [],
   "source": [
    "void PrintParens(vector<vector<int>> s, int i, int j){\n",
    "    if(i==j)\n",
    "        cout<<\"A\";\n",
    "    else{\n",
    "        cout<<\"(\";\n",
    "        PrintParens(s,i,s[i][j]);\n",
    "        PrintParens(s,s[i][j]+1,j);\n",
    "        cout<<\")\";\n",
    "    }\n",
    "}"
   ]
  },
  {
   "cell_type": "markdown",
   "metadata": {},
   "source": [
    "# 1.Down2Top tabular method\n",
    "**Recursive Formulation:**  \n",
    "when (i==j):  \n",
    "$$m[i,j]=0$$\n",
    "else:  \n",
    "$$m[i,j]=\\min_{i\\leq k\\leq j}(m[i,k]+m[k+1,j]+p_{i-1}p_{k}p_{j})$$  \n",
    "**P:** n+1 dimension,record the column number of each matrix;  \n",
    "**m:** 2-D array, save the cost of Matrix_i to Matrix_j;  \n",
    "**s:** 2-D array, record the split point;  \n",
    "  \n",
    "**Main Strategy:**    \n",
    "Down2Top, use for-loop to check each sub-MatrixChain and each possible split point."
   ]
  },
  {
   "cell_type": "code",
   "execution_count": 7,
   "metadata": {},
   "outputs": [],
   "source": [
    "void Process(vector<int> &P, vector<vector<int>> &m, vector<vector<int>> &s){\n",
    "    int n = P.size()-1;\n",
    "    for(int l=1;l<=n-1;l++){\n",
    "        for(int i=0;i+l<n;i++){\n",
    "            int j = i+l;\n",
    "            for(int k=i;k<j;k++){\n",
    "                int p = m[i][k]+m[k+1][j]+P[i-1+1]*P[k+1]*P[j+1];\n",
    "                if(p<m[i][j]){\n",
    "                    m[i][j]=p;\n",
    "                    s[i][j]=k;\n",
    "                }\n",
    "            }\n",
    "        }\n",
    "    }\n",
    "}"
   ]
  },
  {
   "cell_type": "code",
   "execution_count": 8,
   "metadata": {},
   "outputs": [],
   "source": [
    "//Process(P,m,s);"
   ]
  },
  {
   "cell_type": "code",
   "execution_count": 9,
   "metadata": {},
   "outputs": [],
   "source": [
    "//PrintMatrix(m);"
   ]
  },
  {
   "cell_type": "code",
   "execution_count": 10,
   "metadata": {},
   "outputs": [],
   "source": [
    "//PrintParens(s,0,5);"
   ]
  },
  {
   "cell_type": "markdown",
   "metadata": {},
   "source": [
    "# 2.Top2Down Recursive method\n",
    "**Main Strategy:**  \n",
    "Keep the recursive formular, and add a memo to avoid repeated computation."
   ]
  },
  {
   "cell_type": "code",
   "execution_count": 11,
   "metadata": {},
   "outputs": [],
   "source": [
    "int Recursive(vector<int> &P, vector<vector<int>> &m, int i, int j){\n",
    "    if(m[i][j]<INT_MAX)\n",
    "        return m[i][j];\n",
    "    else{\n",
    "        for(int k=i;k<j;k++){\n",
    "            int p = Recursive(P,m,i,k)+Recursive(P,m,k+1,j)+P[i-1+1]*P[k+1]*P[j+1];\n",
    "            if(p<m[i][j]){\n",
    "                m[i][j]=p;\n",
    "            }\n",
    "        }\n",
    "        return m[i][j];\n",
    "    }\n",
    "}"
   ]
  },
  {
   "cell_type": "code",
   "execution_count": 12,
   "metadata": {},
   "outputs": [],
   "source": [
    "int ret=Recursive(P,m,0,5);"
   ]
  },
  {
   "cell_type": "code",
   "execution_count": 13,
   "metadata": {},
   "outputs": [
    {
     "name": "stdout",
     "output_type": "stream",
     "text": [
      "m[0][5]=15125\n"
     ]
    }
   ],
   "source": [
    "cout<<\"m[0][5]=\"<<ret<<endl;"
   ]
  },
  {
   "cell_type": "code",
   "execution_count": 14,
   "metadata": {},
   "outputs": [
    {
     "name": "stdout",
     "output_type": "stream",
     "text": [
      "0 15750 7875 9375 11875 15125 \n",
      "\n",
      "2147483647 0 2625 4375 7125 10500 \n",
      "\n",
      "2147483647 2147483647 0 750 2500 5375 \n",
      "\n",
      "2147483647 2147483647 2147483647 0 1000 3500 \n",
      "\n",
      "2147483647 2147483647 2147483647 2147483647 0 5000 \n",
      "\n",
      "2147483647 2147483647 2147483647 2147483647 2147483647 0 \n",
      "\n"
     ]
    }
   ],
   "source": [
    "PrintMatrix(m);"
   ]
  }
 ],
 "metadata": {
  "kernelspec": {
   "display_name": "C++11",
   "language": "C++11",
   "name": "xeus-cling-cpp11"
  },
  "language_info": {
   "codemirror_mode": "text/x-c++src",
   "file_extension": ".cpp",
   "mimetype": "text/x-c++src",
   "name": "c++",
   "version": "-std=c++11"
  }
 },
 "nbformat": 4,
 "nbformat_minor": 2
}
